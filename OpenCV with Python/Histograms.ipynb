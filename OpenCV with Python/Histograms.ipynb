{
 "cells": [
  {
   "cell_type": "markdown",
   "metadata": {},
   "source": [
    "# Histogram to visualize individual color components"
   ]
  },
  {
   "cell_type": "code",
   "execution_count": 5,
   "metadata": {},
   "outputs": [],
   "source": [
    "import cv2\n",
    "import numpy as np\n",
    "import matplotlib.pyplot as plt\n",
    "%matplotlib inline"
   ]
  },
  {
   "cell_type": "code",
   "execution_count": 3,
   "metadata": {
    "collapsed": true
   },
   "outputs": [],
   "source": [
    "# Load an image using imread specifying the path to image\n",
    "image = cv2.imread('/Users/vmueller/Documents/Software Projects/Computer Vision/OpenCV with Python/images/input.jpg')"
   ]
  },
  {
   "cell_type": "code",
   "execution_count": 4,
   "metadata": {
    "collapsed": true
   },
   "outputs": [],
   "source": [
    "histogram = cv2.calcHist([image], [0], None, [256], [0,256])"
   ]
  },
  {
   "cell_type": "code",
   "execution_count": 6,
   "metadata": {},
   "outputs": [
    {
     "data": {
      "text/plain": [
       "(array([   8117.,    3368.,    5081.,    7921.,   11529.,   12907.,\n",
       "          14483.,   15345.,   16094.,   17868.,   19977.,   27019.,\n",
       "          34355.,   39243.,   52580.,   74723.,   92685.,  109977.,\n",
       "          82279.,   79498.,   92321.,  110761.,  122729.,  120193.,\n",
       "         118024.,   90267.,   69180.,   69485.,   80853.,   88100.,\n",
       "          82781.,   70194.,   58191.,   41767.,   31184.,   28086.,\n",
       "          27619.,   29187.,   26707.,   29523.,   34279.,   48903.,\n",
       "          57658.,   55734.,   37512.,   34869.,   36629.,   41596.,\n",
       "          43025.,   40761.,   34133.,   33546.,   34382.,   33823.,\n",
       "          35304.,   29913.,   26849.,   25830.,   24637.,   22358.,\n",
       "          17901.,   13641.,    9832.,    7251.,    5836.,    4865.,\n",
       "           4453.,    4331.,    4211.,    4070.,    3947.,    3909.,\n",
       "           3831.,    3637.,    3642.,    3650.,    3494.,    3459.,\n",
       "           3268.,    3316.,    3247.,    3099.,    3002.,    2848.,\n",
       "           2848.,    2763.,    2651.,    2589.,    2562.,    2462.,\n",
       "           2434.,    2418.,    2332.,    2207.,    2172.,    2081.,\n",
       "           2205.,    2085.,    1985.,    1867.,    1818.,    1761.,\n",
       "           1804.,    1716.,    1679.,    1743.,    1630.,    1619.,\n",
       "           1537.,    1548.,    1510.,    1442.,    1457.,    1386.,\n",
       "           1358.,    1360.,    1306.,    1308.,    1263.,    1281.,\n",
       "           1212.,    1234.,    1204.,    1126.,    1142.,    1090.,\n",
       "           1032.,    1047.,    1015.,    1024.,     994.,     984.,\n",
       "           1036.,     897.,     874.,     878.,     852.,     830.,\n",
       "            835.,     808.,     815.,     801.,     797.,     757.,\n",
       "            758.,     748.,     709.,     664.,     657.,     717.,\n",
       "            668.,     690.,     645.,     638.,     615.,     643.,\n",
       "            594.,     601.,     570.,     542.,     578.,     561.,\n",
       "            559.,     527.,     501.,     512.,     496.,     518.,\n",
       "            505.,     505.,     496.,     435.,     450.,     400.,\n",
       "            456.,     433.,     454.,     410.,     422.,     403.,\n",
       "            427.,     380.,     353.,     384.,     392.,     374.,\n",
       "            354.,     344.,     349.,     329.,     329.,     335.,\n",
       "            305.,     316.,     296.,     277.,     277.,     292.,\n",
       "            288.,     295.,     299.,     283.,     261.,     244.,\n",
       "            273.,     260.,     266.,     284.,     276.,     228.,\n",
       "            271.,     229.,     238.,     236.,     235.,     210.,\n",
       "            245.,     229.,     214.,     219.,     210.,     221.,\n",
       "            192.,     215.,     182.,     200.,     159.,     200.,\n",
       "            183.,     160.,     175.,     158.,     174.,     170.,\n",
       "            175.,     151.,     151.,     167.,     151.,     150.,\n",
       "            153.,     158.,     149.,     183.,     164.,     152.,\n",
       "            189.,     178.,     189.,     208.,     194.,     196.,\n",
       "            180.,     175.,     200.,    1909.]),\n",
       " array([   0.,    1.,    2.,    3.,    4.,    5.,    6.,    7.,    8.,\n",
       "           9.,   10.,   11.,   12.,   13.,   14.,   15.,   16.,   17.,\n",
       "          18.,   19.,   20.,   21.,   22.,   23.,   24.,   25.,   26.,\n",
       "          27.,   28.,   29.,   30.,   31.,   32.,   33.,   34.,   35.,\n",
       "          36.,   37.,   38.,   39.,   40.,   41.,   42.,   43.,   44.,\n",
       "          45.,   46.,   47.,   48.,   49.,   50.,   51.,   52.,   53.,\n",
       "          54.,   55.,   56.,   57.,   58.,   59.,   60.,   61.,   62.,\n",
       "          63.,   64.,   65.,   66.,   67.,   68.,   69.,   70.,   71.,\n",
       "          72.,   73.,   74.,   75.,   76.,   77.,   78.,   79.,   80.,\n",
       "          81.,   82.,   83.,   84.,   85.,   86.,   87.,   88.,   89.,\n",
       "          90.,   91.,   92.,   93.,   94.,   95.,   96.,   97.,   98.,\n",
       "          99.,  100.,  101.,  102.,  103.,  104.,  105.,  106.,  107.,\n",
       "         108.,  109.,  110.,  111.,  112.,  113.,  114.,  115.,  116.,\n",
       "         117.,  118.,  119.,  120.,  121.,  122.,  123.,  124.,  125.,\n",
       "         126.,  127.,  128.,  129.,  130.,  131.,  132.,  133.,  134.,\n",
       "         135.,  136.,  137.,  138.,  139.,  140.,  141.,  142.,  143.,\n",
       "         144.,  145.,  146.,  147.,  148.,  149.,  150.,  151.,  152.,\n",
       "         153.,  154.,  155.,  156.,  157.,  158.,  159.,  160.,  161.,\n",
       "         162.,  163.,  164.,  165.,  166.,  167.,  168.,  169.,  170.,\n",
       "         171.,  172.,  173.,  174.,  175.,  176.,  177.,  178.,  179.,\n",
       "         180.,  181.,  182.,  183.,  184.,  185.,  186.,  187.,  188.,\n",
       "         189.,  190.,  191.,  192.,  193.,  194.,  195.,  196.,  197.,\n",
       "         198.,  199.,  200.,  201.,  202.,  203.,  204.,  205.,  206.,\n",
       "         207.,  208.,  209.,  210.,  211.,  212.,  213.,  214.,  215.,\n",
       "         216.,  217.,  218.,  219.,  220.,  221.,  222.,  223.,  224.,\n",
       "         225.,  226.,  227.,  228.,  229.,  230.,  231.,  232.,  233.,\n",
       "         234.,  235.,  236.,  237.,  238.,  239.,  240.,  241.,  242.,\n",
       "         243.,  244.,  245.,  246.,  247.,  248.,  249.,  250.,  251.,\n",
       "         252.,  253.,  254.,  255.,  256.]),\n",
       " <a list of 256 Patch objects>)"
      ]
     },
     "execution_count": 6,
     "metadata": {},
     "output_type": "execute_result"
    },
    {
     "data": {
      "image/png": "[encoded data removed]",
      "text/plain": [
       "<matplotlib.figure.Figure at 0x114680908>"
      ]
     },
     "metadata": {},
     "output_type": "display_data"
    }
   ],
   "source": [
    "plt.hist(image.ravel(), 256, [0,256])"
   ]
  },
  {
   "cell_type": "code",
   "execution_count": 7,
   "metadata": {},
   "outputs": [
    {
     "data": {
      "image/png": "[encoded data removed]",
      "text/plain": [
       "<matplotlib.figure.Figure at 0x1139b38d0>"
      ]
     },
     "metadata": {},
     "output_type": "display_data"
    }
   ],
   "source": [
    "color = ('b', 'g', 'r')\n",
    "for i,col in enumerate(color):\n",
    "    histogram = cv2.cv2.calcHist([image], [i], None, [256], [0,256])\n",
    "    plt.plot(histogram, color= col)\n",
    "    plt.xlim([0,256])"
   ]
  }
 ],
 "metadata": {
  "kernelspec": {
   "display_name": "Python 3",
   "language": "python",
   "name": "python3"
  },
  "language_info": {
   "codemirror_mode": {
    "name": "ipython",
    "version": 3
   },
   "file_extension": ".py",
   "mimetype": "text/x-python",
   "name": "python",
   "nbconvert_exporter": "python",
   "pygments_lexer": "ipython3",
   "version": "3.6.2"
  }
 },
 "nbformat": 4,
 "nbformat_minor": 2
}
